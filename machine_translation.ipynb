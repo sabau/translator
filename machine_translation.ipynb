{
 "cells": [
  {
   "cell_type": "markdown",
   "metadata": {
    "collapsed": true
   },
   "source": [
    "# Artificial Intelligence Nanodegree\n",
    "## Machine Translation Project\n",
    "In this notebook, sections that end with **'(IMPLEMENTATION)'** in the header indicate that the following blocks of code will require additional functionality which you must provide. Please be sure to read the instructions carefully!\n",
    "\n",
    "## Introduction\n",
    "In this notebook, you will build a deep neural network that functions as part of an end-to-end machine translation pipeline. Your completed pipeline will accept English text as input and return the French translation.\n",
    "\n",
    "- **Preprocess** - You'll convert text to sequence of integers.\n",
    "- **Models** Create models which accepts a sequence of integers as input and returns a probability distribution over possible translations. After learning about the basic types of neural networks that are often used for machine translation, you will engage in your own investigations, to design your own model!\n",
    "- **Prediction** Run the model on English text."
   ]
  },
  {
   "cell_type": "code",
   "execution_count": 15,
   "metadata": {},
   "outputs": [
    {
     "name": "stdout",
     "output_type": "stream",
     "text": [
      "The autoreload extension is already loaded. To reload it, use:\n",
      "  %reload_ext autoreload\n"
     ]
    }
   ],
   "source": [
    "%load_ext autoreload\n",
    "%aimport helper, tests\n",
    "%autoreload 1"
   ]
  },
  {
   "cell_type": "code",
   "execution_count": 16,
   "metadata": {},
   "outputs": [],
   "source": [
    "import collections\n",
    "\n",
    "import helper\n",
    "import numpy as np\n",
    "import project_tests as tests\n",
    "\n",
    "from keras.preprocessing.text import Tokenizer\n",
    "from keras.preprocessing.sequence import pad_sequences\n",
    "from keras.models import Model\n",
    "from keras.layers import GRU, Input, Dense, TimeDistributed, Activation, RepeatVector, Bidirectional\n",
    "from keras.layers.embeddings import Embedding\n",
    "from keras.optimizers import Adam\n",
    "from keras.losses import sparse_categorical_crossentropy"
   ]
  },
  {
   "cell_type": "markdown",
   "metadata": {},
   "source": [
    "### Verify access to the GPU\n",
    "The following test applies only if you expect to be using a GPU, e.g., while running in a Udacity Workspace or using an AWS instance with GPU support. Run the next cell, and verify that the device_type is \"GPU\".\n",
    "- If the device is not GPU & you are running from a Udacity Workspace, then save your workspace with the icon at the top, then click \"enable\" at the bottom of the workspace.\n",
    "- If the device is not GPU & you are running from an AWS instance, then refer to the cloud computing instructions in the classroom to verify your setup steps."
   ]
  },
  {
   "cell_type": "code",
   "execution_count": 17,
   "metadata": {},
   "outputs": [
    {
     "name": "stdout",
     "output_type": "stream",
     "text": [
      "[name: \"/cpu:0\"\n",
      "device_type: \"CPU\"\n",
      "memory_limit: 268435456\n",
      "locality {\n",
      "}\n",
      "incarnation: 4098604714557812510\n",
      ", name: \"/gpu:0\"\n",
      "device_type: \"GPU\"\n",
      "memory_limit: 312082432\n",
      "locality {\n",
      "  bus_id: 1\n",
      "}\n",
      "incarnation: 4284758894246253750\n",
      "physical_device_desc: \"device: 0, name: Tesla K80, pci bus id: 0000:00:04.0\"\n",
      "]\n"
     ]
    }
   ],
   "source": [
    "from tensorflow.python.client import device_lib\n",
    "print(device_lib.list_local_devices())"
   ]
  },
  {
   "cell_type": "markdown",
   "metadata": {},
   "source": [
    "## Dataset\n",
    "We begin by investigating the dataset that will be used to train and evaluate your pipeline.  The most common datasets used for machine translation are from [WMT](http://www.statmt.org/).  However, that will take a long time to train a neural network on.  We'll be using a dataset we created for this project that contains a small vocabulary.  You'll be able to train your model in a reasonable time with this dataset.\n",
    "### Load Data\n",
    "The data is located in `data/small_vocab_en` and `data/small_vocab_fr`. The `small_vocab_en` file contains English sentences with their French translations in the `small_vocab_fr` file. Load the English and French data from these files from running the cell below."
   ]
  },
  {
   "cell_type": "code",
   "execution_count": 18,
   "metadata": {},
   "outputs": [
    {
     "name": "stdout",
     "output_type": "stream",
     "text": [
      "Dataset Loaded\n"
     ]
    }
   ],
   "source": [
    "# Load English data\n",
    "english_sentences = helper.load_data('data/small_vocab_en')\n",
    "# Load French data\n",
    "french_sentences = helper.load_data('data/small_vocab_fr')\n",
    "\n",
    "print('Dataset Loaded')"
   ]
  },
  {
   "cell_type": "markdown",
   "metadata": {},
   "source": [
    "### Files\n",
    "Each line in `small_vocab_en` contains an English sentence with the respective translation in each line of `small_vocab_fr`.  View the first two lines from each file."
   ]
  },
  {
   "cell_type": "code",
   "execution_count": 19,
   "metadata": {},
   "outputs": [
    {
     "name": "stdout",
     "output_type": "stream",
     "text": [
      "small_vocab_en Line 1:  new jersey is sometimes quiet during autumn , and it is snowy in april .\n",
      "small_vocab_fr Line 1:  new jersey est parfois calme pendant l' automne , et il est neigeux en avril .\n",
      "small_vocab_en Line 2:  the united states is usually chilly during july , and it is usually freezing in november .\n",
      "small_vocab_fr Line 2:  les états-unis est généralement froid en juillet , et il gèle habituellement en novembre .\n"
     ]
    }
   ],
   "source": [
    "for sample_i in range(2):\n",
    "    print('small_vocab_en Line {}:  {}'.format(sample_i + 1, english_sentences[sample_i]))\n",
    "    print('small_vocab_fr Line {}:  {}'.format(sample_i + 1, french_sentences[sample_i]))"
   ]
  },
  {
   "cell_type": "markdown",
   "metadata": {},
   "source": [
    "From looking at the sentences, you can see they have been preprocessed already.  The puncuations have been delimited using spaces. All the text have been converted to lowercase.  This should save you some time, but the text requires more preprocessing.\n",
    "### Vocabulary\n",
    "The complexity of the problem is determined by the complexity of the vocabulary.  A more complex vocabulary is a more complex problem.  Let's look at the complexity of the dataset we'll be working with."
   ]
  },
  {
   "cell_type": "code",
   "execution_count": 20,
   "metadata": {},
   "outputs": [
    {
     "name": "stdout",
     "output_type": "stream",
     "text": [
      "1823250 English words.\n",
      "227 unique English words.\n",
      "10 Most common words in the English dataset:\n",
      "\"is\" \",\" \".\" \"in\" \"it\" \"during\" \"the\" \"but\" \"and\" \"sometimes\"\n",
      "\n",
      "1961295 French words.\n",
      "355 unique French words.\n",
      "10 Most common words in the French dataset:\n",
      "\"est\" \".\" \",\" \"en\" \"il\" \"les\" \"mais\" \"et\" \"la\" \"parfois\"\n"
     ]
    }
   ],
   "source": [
    "english_words_counter = collections.Counter([word for sentence in english_sentences for word in sentence.split()])\n",
    "french_words_counter = collections.Counter([word for sentence in french_sentences for word in sentence.split()])\n",
    "\n",
    "print('{} English words.'.format(len([word for sentence in english_sentences for word in sentence.split()])))\n",
    "print('{} unique English words.'.format(len(english_words_counter)))\n",
    "print('10 Most common words in the English dataset:')\n",
    "print('\"' + '\" \"'.join(list(zip(*english_words_counter.most_common(10)))[0]) + '\"')\n",
    "print()\n",
    "print('{} French words.'.format(len([word for sentence in french_sentences for word in sentence.split()])))\n",
    "print('{} unique French words.'.format(len(french_words_counter)))\n",
    "print('10 Most common words in the French dataset:')\n",
    "print('\"' + '\" \"'.join(list(zip(*french_words_counter.most_common(10)))[0]) + '\"')"
   ]
  },
  {
   "cell_type": "markdown",
   "metadata": {},
   "source": [
    "For comparison, _Alice's Adventures in Wonderland_ contains 2,766 unique words of a total of 15,500 words.\n",
    "## Preprocess\n",
    "For this project, you won't use text data as input to your model. Instead, you'll convert the text into sequences of integers using the following preprocess methods:\n",
    "1. Tokenize the words into ids\n",
    "2. Add padding to make all the sequences the same length.\n",
    "\n",
    "Time to start preprocessing the data...\n",
    "### Tokenize (IMPLEMENTATION)\n",
    "For a neural network to predict on text data, it first has to be turned into data it can understand. Text data like \"dog\" is a sequence of ASCII character encodings.  Since a neural network is a series of multiplication and addition operations, the input data needs to be number(s).\n",
    "\n",
    "We can turn each character into a number or each word into a number.  These are called character and word ids, respectively.  Character ids are used for character level models that generate text predictions for each character.  A word level model uses word ids that generate text predictions for each word.  Word level models tend to learn better, since they are lower in complexity, so we'll use those.\n",
    "\n",
    "Turn each sentence into a sequence of words ids using Keras's [`Tokenizer`](https://keras.io/preprocessing/text/#tokenizer) function. Use this function to tokenize `english_sentences` and `french_sentences` in the cell below.\n",
    "\n",
    "Running the cell will run `tokenize` on sample data and show output for debugging."
   ]
  },
  {
   "cell_type": "code",
   "execution_count": 21,
   "metadata": {},
   "outputs": [
    {
     "name": "stdout",
     "output_type": "stream",
     "text": [
      "{'the': 1, 'quick': 2, 'a': 3, 'brown': 4, 'fox': 5, 'jumps': 6, 'over': 7, 'lazy': 8, 'dog': 9, 'by': 10, 'jove': 11, 'my': 12, 'study': 13, 'of': 14, 'lexicography': 15, 'won': 16, 'prize': 17, 'this': 18, 'is': 19, 'short': 20, 'sentence': 21}\n",
      "\n",
      "Sequence 1 in x\n",
      "  Input:  The quick brown fox jumps over the lazy dog .\n",
      "  Output: [1, 2, 4, 5, 6, 7, 1, 8, 9]\n",
      "Sequence 2 in x\n",
      "  Input:  By Jove , my quick study of lexicography won a prize .\n",
      "  Output: [10, 11, 12, 2, 13, 14, 15, 16, 3, 17]\n",
      "Sequence 3 in x\n",
      "  Input:  This is a short sentence .\n",
      "  Output: [18, 19, 3, 20, 21]\n"
     ]
    }
   ],
   "source": [
    "from keras.preprocessing.text import Tokenizer\n",
    "\n",
    "def tokenize(x):\n",
    "    \"\"\"\n",
    "    Tokenize x\n",
    "    :param x: List of sentences/strings to be tokenized\n",
    "    :return: Tuple of (tokenized x data, tokenizer used to tokenize x)\n",
    "    \"\"\"\n",
    "    \n",
    "    # num_words = 1000\n",
    "    # tokenizer = Tokenizer(num_words=num_words)\n",
    "    tokenizer = Tokenizer()\n",
    "    tokenizer.fit_on_texts(x)\n",
    "    return tokenizer.texts_to_sequences(x), tokenizer\n",
    "\n",
    "tests.test_tokenize(tokenize)\n",
    "\n",
    "# Tokenize Example output\n",
    "text_sentences = [\n",
    "    'The quick brown fox jumps over the lazy dog .',\n",
    "    'By Jove , my quick study of lexicography won a prize .',\n",
    "    'This is a short sentence .']\n",
    "text_tokenized, text_tokenizer = tokenize(text_sentences)\n",
    "print(text_tokenizer.word_index)\n",
    "print()\n",
    "for sample_i, (sent, token_sent) in enumerate(zip(text_sentences, text_tokenized)):\n",
    "    print('Sequence {} in x'.format(sample_i + 1))\n",
    "    print('  Input:  {}'.format(sent))\n",
    "    print('  Output: {}'.format(token_sent))"
   ]
  },
  {
   "cell_type": "markdown",
   "metadata": {},
   "source": [
    "### Padding (IMPLEMENTATION)\n",
    "When batching the sequence of word ids together, each sequence needs to be the same length.  Since sentences are dynamic in length, we can add padding to the end of the sequences to make them the same length.\n",
    "\n",
    "Make sure all the English sequences have the same length and all the French sequences have the same length by adding padding to the **end** of each sequence using Keras's [`pad_sequences`](https://keras.io/preprocessing/sequence/#pad_sequences) function."
   ]
  },
  {
   "cell_type": "code",
   "execution_count": 22,
   "metadata": {},
   "outputs": [
    {
     "name": "stdout",
     "output_type": "stream",
     "text": [
      "Sequence 1 in x\n",
      "  Input:  [1 2 4 5 6 7 1 8 9]\n",
      "  Output: [1 2 4 5 6 7 1 8 9 0]\n",
      "Sequence 2 in x\n",
      "  Input:  [10 11 12  2 13 14 15 16  3 17]\n",
      "  Output: [10 11 12  2 13 14 15 16  3 17]\n",
      "Sequence 3 in x\n",
      "  Input:  [18 19  3 20 21]\n",
      "  Output: [18 19  3 20 21  0  0  0  0  0]\n"
     ]
    }
   ],
   "source": [
    "from keras.preprocessing.sequence import pad_sequences\n",
    "\n",
    "def pad(x, length=None):\n",
    "    \"\"\"\n",
    "    Pad x\n",
    "    :param x: List of sequences.\n",
    "    :param length: Length to pad the sequence to.  If None, use length of longest sequence in x.\n",
    "    :return: Padded numpy array of sequences\n",
    "    \"\"\"\n",
    "    return pad_sequences(x, # list of int\n",
    "                         maxlen=length, \n",
    "                         padding='post')\n",
    "tests.test_pad(pad)\n",
    "\n",
    "# Pad Tokenized output\n",
    "test_pad = pad(text_tokenized)\n",
    "for sample_i, (token_sent, pad_sent) in enumerate(zip(text_tokenized, test_pad)):\n",
    "    print('Sequence {} in x'.format(sample_i + 1))\n",
    "    print('  Input:  {}'.format(np.array(token_sent)))\n",
    "    print('  Output: {}'.format(pad_sent))"
   ]
  },
  {
   "cell_type": "markdown",
   "metadata": {},
   "source": [
    "### Preprocess Pipeline\n",
    "Your focus for this project is to build neural network architecture, so we won't ask you to create a preprocess pipeline.  Instead, we've provided you with the implementation of the `preprocess` function."
   ]
  },
  {
   "cell_type": "code",
   "execution_count": 23,
   "metadata": {},
   "outputs": [
    {
     "name": "stdout",
     "output_type": "stream",
     "text": [
      "Data Preprocessed\n",
      "Max English sentence length: 15\n",
      "Max French sentence length: 21\n",
      "English vocabulary size: 200\n",
      "French vocabulary size: 345\n"
     ]
    }
   ],
   "source": [
    "def preprocess(x, y):\n",
    "    \"\"\"\n",
    "    Preprocess x and y\n",
    "    :param x: Feature List of sentences\n",
    "    :param y: Label List of sentences\n",
    "    :return: Tuple of (Preprocessed x, Preprocessed y, x tokenizer, y tokenizer)\n",
    "    \"\"\"\n",
    "    preprocess_x, x_tk = tokenize(x)\n",
    "    preprocess_y, y_tk = tokenize(y)\n",
    "\n",
    "    preprocess_x = pad(preprocess_x)\n",
    "    preprocess_y = pad(preprocess_y)\n",
    "\n",
    "    # Keras's sparse_categorical_crossentropy function requires the labels to be in 3 dimensions\n",
    "    preprocess_y = preprocess_y.reshape(*preprocess_y.shape, 1)\n",
    "\n",
    "    return preprocess_x, preprocess_y, x_tk, y_tk\n",
    "\n",
    "preproc_english_sentences, preproc_french_sentences, english_tokenizer, french_tokenizer =\\\n",
    "    preprocess(english_sentences, french_sentences)\n",
    "    \n",
    "max_english_sequence_length = preproc_english_sentences.shape[1]\n",
    "max_french_sequence_length = preproc_french_sentences.shape[1]\n",
    "english_vocab_size = len(english_tokenizer.word_index) + 1\n",
    "french_vocab_size = len(french_tokenizer.word_index) + 1\n",
    "\n",
    "print('Data Preprocessed')\n",
    "print(\"Max English sentence length:\", max_english_sequence_length)\n",
    "print(\"Max French sentence length:\", max_french_sequence_length)\n",
    "print(\"English vocabulary size:\", english_vocab_size)\n",
    "print(\"French vocabulary size:\", french_vocab_size)"
   ]
  },
  {
   "cell_type": "markdown",
   "metadata": {},
   "source": [
    "## Models\n",
    "In this section, you will experiment with various neural network architectures.\n",
    "You will begin by training four relatively simple architectures.\n",
    "- Model 1 is a simple RNN\n",
    "- Model 2 is a RNN with Embedding\n",
    "- Model 3 is a Bidirectional RNN\n",
    "- Model 4 is an optional Encoder-Decoder RNN\n",
    "\n",
    "After experimenting with the four simple architectures, you will construct a deeper architecture that is designed to outperform all four models.\n",
    "### Ids Back to Text\n",
    "The neural network will be translating the input to words ids, which isn't the final form we want.  We want the French translation.  The function `logits_to_text` will bridge the gab between the logits from the neural network to the French translation.  You'll be using this function to better understand the output of the neural network."
   ]
  },
  {
   "cell_type": "code",
   "execution_count": 24,
   "metadata": {},
   "outputs": [
    {
     "name": "stdout",
     "output_type": "stream",
     "text": [
      "`logits_to_text` function loaded.\n"
     ]
    }
   ],
   "source": [
    "def logits_to_text(logits, tokenizer):\n",
    "    \"\"\"\n",
    "    Turn logits from a neural network into text using the tokenizer\n",
    "    :param logits: Logits from a neural network\n",
    "    :param tokenizer: Keras Tokenizer fit on the labels\n",
    "    :return: String that represents the text of the logits\n",
    "    \"\"\"\n",
    "    index_to_words = {id: word for word, id in tokenizer.word_index.items()}\n",
    "    index_to_words[0] = '<PAD>'\n",
    "\n",
    "    return ' '.join([index_to_words[prediction] for prediction in np.argmax(logits, 1)])\n",
    "\n",
    "print('`logits_to_text` function loaded.')"
   ]
  },
  {
   "cell_type": "code",
   "execution_count": 27,
   "metadata": {},
   "outputs": [],
   "source": [
    "from keras.layers import Activation, Recurrent, SimpleRNN, GRU, Input, Dense, TimeDistributed \n",
    "from keras.layers.core import Activation, Dropout \n",
    "from keras.models import Model, Sequential \n",
    "from keras.optimizers import Adam\n",
    "from keras.losses import sparse_categorical_crossentropy\n",
    "from keras.models import load_model\n",
    "import os, errno\n",
    "cachedir = 'cache'\n",
    "os.makedirs(cachedir, exist_ok=True)\n",
    "#try:\n",
    "#    os.makedirs(cachedir)\n",
    "#except OSError as e:\n",
    "#    if e.errno != errno.EEXIST:\n",
    "#        raise"
   ]
  },
  {
   "cell_type": "markdown",
   "metadata": {},
   "source": [
    "### Model 1: RNN (IMPLEMENTATION)\n",
    "![RNN](images/rnn.png)\n",
    "A basic RNN model is a good baseline for sequence data.  In this model, you'll build a RNN that translates English to French."
   ]
  },
  {
   "cell_type": "code",
   "execution_count": 28,
   "metadata": {},
   "outputs": [
    {
     "name": "stdout",
     "output_type": "stream",
     "text": [
      "new jersey est parfois parfois en en et il est est en en <PAD> <PAD> <PAD> <PAD> <PAD> <PAD> <PAD> <PAD>\n"
     ]
    }
   ],
   "source": [
    "def simple_model(input_shape, output_sequence_length, english_vocab_size, french_vocab_size):\n",
    "    \"\"\"\n",
    "    Build and train a basic RNN on x and y\n",
    "    :param input_shape: Tuple of input shape\n",
    "    :param output_sequence_length: Length of output sequence\n",
    "    :param english_vocab_size: Number of unique English words in the dataset\n",
    "    :param french_vocab_size: Number of unique French words in the dataset\n",
    "    :return: Keras model built, but not trained\n",
    "    \"\"\"\n",
    "    learning_rate = 0.001\n",
    "    model = Sequential()\n",
    "    # return_sequences will be true because this layer will feed other recurrent layers\n",
    "    model.add(SimpleRNN(output_sequence_length, activation='tanh', return_sequences=True, input_shape=input_shape[1:]))\n",
    "    # Dense Layers\n",
    "    model.add(Dropout(0.2))  \n",
    "    model.add(TimeDistributed(Dense(2 * french_vocab_size, activation='relu')))\n",
    "    model.add(Dropout(0.2))  \n",
    "    # Apply Softmax since we have 3+ classes\n",
    "    model.add(TimeDistributed(Dense(french_vocab_size, activation='softmax')))\n",
    "    model.compile(loss=sparse_categorical_crossentropy,\n",
    "                  optimizer=Adam(lr=learning_rate),\n",
    "                  metrics=['accuracy'])\n",
    "    return model\n",
    "tests.test_simple_model(simple_model)\n",
    "\n",
    "# Reshaping the input to work with a basic RNN\n",
    "tmp_x = pad(preproc_english_sentences, max_french_sequence_length)\n",
    "tmp_x = tmp_x.reshape((-1, preproc_french_sentences.shape[-2], 1))\n",
    "\n",
    "# Train the neural network\n",
    "simple_rnn_model = simple_model(\n",
    "    tmp_x.shape,\n",
    "    max_french_sequence_length,\n",
    "    english_vocab_size,\n",
    "    french_vocab_size)\n",
    "\n",
    "if os.path.exists(os.path.join(cachedir, \"simple_rnn_model.h5\")) == False:\n",
    "    simple_rnn_model.fit(tmp_x, preproc_french_sentences, batch_size=1024, epochs=15, validation_split=0.2)\n",
    "    simple_rnn_model.save(os.path.join(cachedir, \"simple_rnn_model.h5\"))\n",
    "else:\n",
    "    simple_rnn_model = load_model(os.path.join(cachedir, \"simple_rnn_model.h5\"))\n",
    "\n",
    "\n",
    "# Print prediction(s)\n",
    "print(logits_to_text(simple_rnn_model.predict(tmp_x[:1])[0], french_tokenizer))"
   ]
  },
  {
   "cell_type": "code",
   "execution_count": 29,
   "metadata": {},
   "outputs": [
    {
     "name": "stdout",
     "output_type": "stream",
     "text": [
      "Original:  ['new jersey is sometimes quiet during autumn , and it is snowy in april .']\n",
      "Translated:  [\"new jersey est parfois calme pendant l' automne , et il est neigeux en avril .\"]\n"
     ]
    }
   ],
   "source": [
    "print(\"Original: \", english_sentences[:1])\n",
    "print(\"Translated: \", french_sentences[:1])"
   ]
  },
  {
   "cell_type": "markdown",
   "metadata": {},
   "source": [
    "### Model 2: Embedding (IMPLEMENTATION)\n",
    "![RNN](images/embedding.png)\n",
    "You've turned the words into ids, but there's a better representation of a word.  This is called word embeddings.  An embedding is a vector representation of the word that is close to similar words in n-dimensional space, where the n represents the size of the embedding vectors.\n",
    "\n",
    "In this model, you'll create a RNN model using embedding."
   ]
  },
  {
   "cell_type": "code",
   "execution_count": 31,
   "metadata": {},
   "outputs": [
    {
     "name": "stdout",
     "output_type": "stream",
     "text": [
      "_________________________________________________________________\n",
      "Layer (type)                 Output Shape              Param #   \n",
      "=================================================================\n",
      "embedding_4 (Embedding)      (None, 21, 256)           51200     \n",
      "_________________________________________________________________\n",
      "gru_4 (GRU)                  (None, 21, 256)           393984    \n",
      "_________________________________________________________________\n",
      "time_distributed_23 (TimeDis (None, 21, 512)           131584    \n",
      "_________________________________________________________________\n",
      "dropout_20 (Dropout)         (None, 21, 512)           0         \n",
      "_________________________________________________________________\n",
      "time_distributed_24 (TimeDis (None, 21, 345)           176985    \n",
      "=================================================================\n",
      "Total params: 753,753\n",
      "Trainable params: 753,753\n",
      "Non-trainable params: 0\n",
      "_________________________________________________________________\n",
      "None\n",
      "new jersey est parfois calme en l' automne et il est neigeux en avril <PAD> <PAD> <PAD> <PAD> <PAD> <PAD> <PAD>\n"
     ]
    }
   ],
   "source": [
    "def embed_model(input_shape, output_sequence_length, english_vocab_size, french_vocab_size):\n",
    "    \"\"\"\n",
    "    Build and train a RNN model using word embedding on x and y\n",
    "    :param input_shape: Tuple of input shape\n",
    "    :param output_sequence_length: Length of output sequence\n",
    "    :param english_vocab_size: Number of unique English words in the dataset\n",
    "    :param french_vocab_size: Number of unique French words in the dataset\n",
    "    :return: Keras model built, but not trained\n",
    "    \"\"\"\n",
    "    learning_rate = 0.001\n",
    "    emb_size_out = 256\n",
    "    model = Sequential()\n",
    "    # output dim of embedding matrix tunable hyperparameter\n",
    "    model.add(Embedding(english_vocab_size, emb_size_out, input_length=input_shape[1], input_shape=input_shape[1:]))\n",
    "    model.add(GRU(emb_size_out, return_sequences=True))\n",
    "    model.add(TimeDistributed(Dense(emb_size_out * 2, activation='tanh')))\n",
    "    model.add(Dropout(0.3))\n",
    "    model.add(TimeDistributed(Dense(french_vocab_size, activation='softmax')))\n",
    "    \n",
    "    model.compile(loss=sparse_categorical_crossentropy,\n",
    "                  optimizer=Adam(learning_rate),\n",
    "                  metrics=['accuracy'])\n",
    "    return model\n",
    "tests.test_embed_model(embed_model)\n",
    "\n",
    "# Reshaping the input to work with an embedded RNN\n",
    "tmp_x = pad(preproc_english_sentences, max_french_sequence_length)\n",
    "\n",
    "# Train the neural network\n",
    "embed_rnn_model = embed_model(\n",
    "    tmp_x.shape,\n",
    "    max_french_sequence_length,\n",
    "    english_vocab_size,\n",
    "    french_vocab_size)\n",
    "print(embed_rnn_model.summary())\n",
    "\n",
    "if os.path.exists(os.path.join(cachedir, \"embed_rnn_model.h5\")) == False:\n",
    "    embed_rnn_model.fit(tmp_x, preproc_french_sentences, batch_size=1024, epochs=15, validation_split=0.2)\n",
    "    embed_rnn_model.save(os.path.join(cachedir, \"embed_rnn_model.h5\"))\n",
    "else:\n",
    "    embed_rnn_model = load_model(os.path.join(cachedir, \"embed_rnn_model.h5\"))\n",
    "\n",
    "# Print prediction(s)\n",
    "print(logits_to_text(embed_rnn_model.predict(tmp_x[:1])[0], french_tokenizer))"
   ]
  },
  {
   "cell_type": "code",
   "execution_count": 32,
   "metadata": {},
   "outputs": [
    {
     "name": "stdout",
     "output_type": "stream",
     "text": [
      "Original:  ['new jersey is sometimes quiet during autumn , and it is snowy in april .']\n",
      "Translated:  [\"new jersey est parfois calme pendant l' automne , et il est neigeux en avril .\"]\n"
     ]
    }
   ],
   "source": [
    "print(\"Original: \", english_sentences[:1])\n",
    "print(\"Translated: \", french_sentences[:1])"
   ]
  },
  {
   "cell_type": "markdown",
   "metadata": {},
   "source": [
    "### Model 3: Bidirectional RNNs (IMPLEMENTATION)\n",
    "![RNN](images/bidirectional.png)\n",
    "One restriction of a RNN is that it can't see the future input, only the past.  This is where bidirectional recurrent neural networks come in.  They are able to see the future data."
   ]
  },
  {
   "cell_type": "code",
   "execution_count": 36,
   "metadata": {},
   "outputs": [
    {
     "name": "stdout",
     "output_type": "stream",
     "text": [
      "_________________________________________________________________\n",
      "Layer (type)                 Output Shape              Param #   \n",
      "=================================================================\n",
      "bidirectional_4 (Bidirection (None, 21, 512)           396288    \n",
      "_________________________________________________________________\n",
      "time_distributed_31 (TimeDis (None, 21, 1024)          525312    \n",
      "_________________________________________________________________\n",
      "dropout_24 (Dropout)         (None, 21, 1024)          0         \n",
      "_________________________________________________________________\n",
      "time_distributed_32 (TimeDis (None, 21, 345)           353625    \n",
      "=================================================================\n",
      "Total params: 1,275,225\n",
      "Trainable params: 1,275,225\n",
      "Non-trainable params: 0\n",
      "_________________________________________________________________\n",
      "None\n",
      "Train on 110288 samples, validate on 27573 samples\n",
      "Epoch 1/15\n",
      "110288/110288 [==============================] - 26s 232us/step - loss: 2.1200 - acc: 0.5370 - val_loss: 1.4109 - val_acc: 0.6091\n",
      "Epoch 2/15\n",
      "110288/110288 [==============================] - 25s 222us/step - loss: 1.3701 - acc: 0.6190 - val_loss: 1.2620 - val_acc: 0.6313\n",
      "Epoch 3/15\n",
      "110288/110288 [==============================] - 25s 222us/step - loss: 1.2326 - acc: 0.6433 - val_loss: 1.2463 - val_acc: 0.6269\n",
      "Epoch 4/15\n",
      "110288/110288 [==============================] - 25s 223us/step - loss: 1.1491 - acc: 0.6599 - val_loss: 1.2624 - val_acc: 0.6223\n",
      "Epoch 5/15\n",
      "110288/110288 [==============================] - 25s 223us/step - loss: 1.0859 - acc: 0.6717 - val_loss: 1.3734 - val_acc: 0.6092\n",
      "Epoch 6/15\n",
      "110288/110288 [==============================] - 25s 223us/step - loss: 1.0404 - acc: 0.6790 - val_loss: 1.4335 - val_acc: 0.6062\n",
      "Epoch 7/15\n",
      "110288/110288 [==============================] - 25s 223us/step - loss: 1.0042 - acc: 0.6851 - val_loss: 1.5441 - val_acc: 0.6003\n",
      "Epoch 8/15\n",
      "110288/110288 [==============================] - 25s 223us/step - loss: 0.9771 - acc: 0.6894 - val_loss: 1.6458 - val_acc: 0.6009\n",
      "Epoch 9/15\n",
      "110288/110288 [==============================] - 25s 223us/step - loss: 0.9511 - acc: 0.6943 - val_loss: 1.7148 - val_acc: 0.6002\n",
      "Epoch 10/15\n",
      "110288/110288 [==============================] - 25s 223us/step - loss: 0.9332 - acc: 0.6973 - val_loss: 1.8205 - val_acc: 0.5974\n",
      "Epoch 11/15\n",
      "110288/110288 [==============================] - 25s 223us/step - loss: 0.9144 - acc: 0.7009 - val_loss: 1.9302 - val_acc: 0.5869\n",
      "Epoch 12/15\n",
      "110288/110288 [==============================] - 25s 223us/step - loss: 0.9008 - acc: 0.7041 - val_loss: 2.0216 - val_acc: 0.5765\n",
      "Epoch 13/15\n",
      "110288/110288 [==============================] - 25s 223us/step - loss: 0.8871 - acc: 0.7061 - val_loss: 2.1270 - val_acc: 0.5749\n",
      "Epoch 14/15\n",
      "110288/110288 [==============================] - 25s 223us/step - loss: 0.8739 - acc: 0.7091 - val_loss: 2.0722 - val_acc: 0.5879\n",
      "Epoch 15/15\n",
      "110288/110288 [==============================] - 25s 223us/step - loss: 0.8623 - acc: 0.7116 - val_loss: 2.2324 - val_acc: 0.5704\n",
      "new unis est parfois occupé en printemps hiver il gèle agréable en mai <PAD> <PAD> <PAD> <PAD> <PAD> <PAD> <PAD> <PAD>\n"
     ]
    }
   ],
   "source": [
    "from keras.layers import Bidirectional\n",
    "\n",
    "def bd_model(input_shape, output_sequence_length, english_vocab_size, french_vocab_size):\n",
    "    \"\"\"\n",
    "    Build and train a bidirectional RNN model on x and y\n",
    "    :param input_shape: Tuple of input shape\n",
    "    :param output_sequence_length: Length of output sequence\n",
    "    :param english_vocab_size: Number of unique English words in the dataset\n",
    "    :param french_vocab_size: Number of unique French words in the dataset\n",
    "    :return: Keras model built, but not trained\n",
    "    \"\"\"\n",
    "    learning_rate = 0.001\n",
    "    size_out = 256\n",
    "    model = Sequential()\n",
    "    # output dim of embedding matrix tunable hyperparameter\n",
    "    model.add(Bidirectional(GRU(size_out, return_sequences=True, dropout=0.1), input_shape=input_shape[1:]))\n",
    "    model.add(TimeDistributed(Dense(size_out * 4, activation='tanh')))\n",
    "    model.add(Dropout(0.3))\n",
    "    model.add(TimeDistributed(Dense(french_vocab_size, activation='softmax')))\n",
    "    \n",
    "    model.compile(loss=sparse_categorical_crossentropy,\n",
    "                  optimizer=Adam(learning_rate),\n",
    "                  metrics=['accuracy'])\n",
    "    return model\n",
    "tests.test_bd_model(bd_model)\n",
    "\n",
    "\n",
    "# Reshaping the input to work with an embedded RNN\n",
    "tmp_x = pad(preproc_english_sentences, preproc_french_sentences.shape[1])\n",
    "tmp_x = tmp_x.reshape((-1, preproc_french_sentences.shape[-2], 1))\n",
    "\n",
    "# Train the neural network\n",
    "bd_rnn_model = bd_model(\n",
    "    tmp_x.shape,\n",
    "    max_french_sequence_length,\n",
    "    english_vocab_size,\n",
    "    french_vocab_size)\n",
    "print(bd_rnn_model.summary())\n",
    "\n",
    "if os.path.exists(os.path.join(cachedir, \"bd_rnn_model.h5\")) == False:\n",
    "    bd_rnn_model.fit(tmp_x, preproc_french_sentences, batch_size=1024, epochs=15, validation_split=0.2)\n",
    "    bd_rnn_model.save(os.path.join(cachedir, \"bd_rnn_model.h5\"))\n",
    "else:\n",
    "    bd_rnn_model = load_model(os.path.join(cachedir, \"bd_rnn_model.h5\"))\n",
    "    \n",
    "# Print prediction(s)\n",
    "print(logits_to_text(bd_rnn_model.predict(tmp_x[:1])[0], french_tokenizer))"
   ]
  },
  {
   "cell_type": "code",
   "execution_count": null,
   "metadata": {},
   "outputs": [],
   "source": [
    "print(\"Original: \", english_sentences[:1])\n",
    "print(\"Translated: \", french_sentences[:1])"
   ]
  },
  {
   "cell_type": "markdown",
   "metadata": {},
   "source": [
    "### Model 4: Encoder-Decoder (OPTIONAL)\n",
    "Time to look at encoder-decoder models.  This model is made up of an encoder and decoder. The encoder creates a matrix representation of the sentence.  The decoder takes this matrix as input and predicts the translation as output.\n",
    "\n",
    "Create an encoder-decoder model in the cell below."
   ]
  },
  {
   "cell_type": "code",
   "execution_count": 37,
   "metadata": {},
   "outputs": [
    {
     "name": "stdout",
     "output_type": "stream",
     "text": [
      "_________________________________________________________________\n",
      "Layer (type)                 Output Shape              Param #   \n",
      "=================================================================\n",
      "gru_14 (GRU)                 (None, 256)               198144    \n",
      "_________________________________________________________________\n",
      "repeat_vector_2 (RepeatVecto (None, 21, 256)           0         \n",
      "_________________________________________________________________\n",
      "gru_15 (GRU)                 (None, 21, 256)           393984    \n",
      "_________________________________________________________________\n",
      "time_distributed_35 (TimeDis (None, 21, 512)           131584    \n",
      "_________________________________________________________________\n",
      "dropout_26 (Dropout)         (None, 21, 512)           0         \n",
      "_________________________________________________________________\n",
      "time_distributed_36 (TimeDis (None, 21, 345)           176985    \n",
      "=================================================================\n",
      "Total params: 900,697\n",
      "Trainable params: 900,697\n",
      "Non-trainable params: 0\n",
      "_________________________________________________________________\n",
      "None\n",
      "Train on 110288 samples, validate on 27573 samples\n",
      "Epoch 1/15\n",
      "110288/110288 [==============================] - 23s 212us/step - loss: 2.9005 - acc: 0.4461 - val_loss: 2.2913 - val_acc: 0.4957\n",
      "Epoch 2/15\n",
      "110288/110288 [==============================] - 22s 202us/step - loss: 2.0811 - acc: 0.5154 - val_loss: 1.7651 - val_acc: 0.5518\n",
      "Epoch 3/15\n",
      "110288/110288 [==============================] - 22s 202us/step - loss: 1.6794 - acc: 0.5599 - val_loss: 1.5555 - val_acc: 0.5853\n",
      "Epoch 4/15\n",
      "110288/110288 [==============================] - 22s 203us/step - loss: 1.5408 - acc: 0.5839 - val_loss: 1.4162 - val_acc: 0.6089\n",
      "Epoch 5/15\n",
      "110288/110288 [==============================] - 22s 203us/step - loss: 1.4050 - acc: 0.6086 - val_loss: 1.3375 - val_acc: 0.6230\n",
      "Epoch 6/15\n",
      "110288/110288 [==============================] - 22s 203us/step - loss: 1.3310 - acc: 0.6216 - val_loss: 1.2716 - val_acc: 0.6336\n",
      "Epoch 7/15\n",
      "110288/110288 [==============================] - 22s 203us/step - loss: 1.2778 - acc: 0.6291 - val_loss: 1.2387 - val_acc: 0.6355\n",
      "Epoch 8/15\n",
      "110288/110288 [==============================] - 22s 203us/step - loss: 1.2390 - acc: 0.6333 - val_loss: 1.1945 - val_acc: 0.6433\n",
      "Epoch 9/15\n",
      "110288/110288 [==============================] - 22s 202us/step - loss: 1.2042 - acc: 0.6383 - val_loss: 1.1574 - val_acc: 0.6485\n",
      "Epoch 10/15\n",
      "110288/110288 [==============================] - 22s 203us/step - loss: 1.1785 - acc: 0.6420 - val_loss: 1.1258 - val_acc: 0.6516\n",
      "Epoch 11/15\n",
      "110288/110288 [==============================] - 22s 202us/step - loss: 1.1306 - acc: 0.6497 - val_loss: 1.0800 - val_acc: 0.6610\n",
      "Epoch 12/15\n",
      "110288/110288 [==============================] - 22s 203us/step - loss: 1.0940 - acc: 0.6561 - val_loss: 1.0451 - val_acc: 0.6666\n",
      "Epoch 13/15\n",
      "110288/110288 [==============================] - 22s 203us/step - loss: 1.0627 - acc: 0.6619 - val_loss: 1.0109 - val_acc: 0.6730\n",
      "Epoch 14/15\n",
      "110288/110288 [==============================] - 22s 203us/step - loss: 1.0288 - acc: 0.6688 - val_loss: 0.9788 - val_acc: 0.6806\n",
      "Epoch 15/15\n",
      "110288/110288 [==============================] - 22s 203us/step - loss: 1.0004 - acc: 0.6745 - val_loss: 0.9653 - val_acc: 0.6835\n",
      "new jersey est parfois calme en mois de il est il en en <PAD> <PAD> <PAD> <PAD> <PAD> <PAD> <PAD> <PAD>\n"
     ]
    }
   ],
   "source": [
    "def encdec_model(input_shape, output_sequence_length, english_vocab_size, french_vocab_size):\n",
    "    \"\"\"\n",
    "    Build and train an encoder-decoder model on x and y\n",
    "    :param input_shape: Tuple of input shape\n",
    "    :param output_sequence_length: Length of output sequence\n",
    "    :param english_vocab_size: Number of unique English words in the dataset\n",
    "    :param french_vocab_size: Number of unique French words in the dataset\n",
    "    :return: Keras model built, but not trained\n",
    "    \"\"\"\n",
    "    model = Sequential()\n",
    "    learning_rate = 0.001\n",
    "    out_size = 256\n",
    "    #encoder\n",
    "    model.add(GRU(out_size, input_shape=input_shape[1:], return_sequences=False) )\n",
    "    model.add(RepeatVector(output_sequence_length))\n",
    "    #decoder\n",
    "    model.add(GRU(out_size, return_sequences=True) )\n",
    "    \n",
    "    model.add(TimeDistributed(Dense(out_size * 2, activation='tanh')))\n",
    "    model.add(Dropout(0.3))\n",
    "    \n",
    "    #output\n",
    "    model.add(TimeDistributed(Dense(french_vocab_size, activation='softmax')))\n",
    "    \n",
    "    model.compile(loss=sparse_categorical_crossentropy,\n",
    "                  optimizer=Adam(learning_rate),\n",
    "                  metrics=['accuracy'])\n",
    "    \n",
    "    return model\n",
    "tests.test_encdec_model(encdec_model)\n",
    "\n",
    "tmp_x = pad(preproc_english_sentences, preproc_french_sentences.shape[1])\n",
    "tmp_x = tmp_x.reshape((-1, preproc_french_sentences.shape[-2], 1))\n",
    "# Train the neural network\n",
    "encdec_rnn_model = encdec_model(\n",
    "    tmp_x.shape,\n",
    "    max_french_sequence_length,\n",
    "    english_vocab_size,\n",
    "    french_vocab_size)\n",
    "print(encdec_rnn_model.summary())\n",
    "\n",
    "if os.path.exists(os.path.join(cachedir, \"encdec_rnn_model.h5\")) == False:\n",
    "    encdec_rnn_model.fit(tmp_x, preproc_french_sentences, batch_size=1024, epochs=15, validation_split=0.2)\n",
    "    encdec_rnn_model.save(os.path.join(cachedir, \"encdec_rnn_model.h5\"))\n",
    "else:\n",
    "    encdec_rnn_model = load_model(os.path.join(cachedir, \"encdec_rnn_model.h5\"))\n",
    "    \n",
    "# Print prediction(s)\n",
    "print(logits_to_text(encdec_rnn_model.predict(tmp_x[:1])[0], french_tokenizer))"
   ]
  },
  {
   "cell_type": "markdown",
   "metadata": {},
   "source": [
    "### Model 5: Custom (IMPLEMENTATION)\n",
    "Use everything you learned from the previous models to create a model that incorporates embedding and a bidirectional rnn into one model."
   ]
  },
  {
   "cell_type": "code",
   "execution_count": 38,
   "metadata": {},
   "outputs": [
    {
     "name": "stdout",
     "output_type": "stream",
     "text": [
      "Final Model Loaded\n"
     ]
    }
   ],
   "source": [
    "def model_final(input_shape, output_sequence_length, english_vocab_size, french_vocab_size):\n",
    "    \"\"\"\n",
    "    Build and train a model that incorporates embedding, encoder-decoder, and bidirectional RNN on x and y\n",
    "    :param input_shape: Tuple of input shape\n",
    "    :param output_sequence_length: Length of output sequence\n",
    "    :param english_vocab_size: Number of unique English words in the dataset\n",
    "    :param french_vocab_size: Number of unique French words in the dataset\n",
    "    :return: Keras model built, but not trained\n",
    "    \"\"\"\n",
    "    learning_rate = 0.001\n",
    "    size_out = 256\n",
    "    model = Sequential()\n",
    "    vocab_size = max(english_vocab_size, french_vocab_size)\n",
    "    # OPTIONAL: Implement\n",
    "    model = Sequential()\n",
    "    model.add(Embedding(vocab_size, size_out, input_length=input_shape[1]))\n",
    "    #encoder\n",
    "    model.add(Bidirectional(GRU(size_out, return_sequences=False)) )\n",
    "    model.add(RepeatVector(output_sequence_length))\n",
    "    #decoder\n",
    "    model.add(Bidirectional(GRU(size_out, return_sequences=True)) )\n",
    "    #output\n",
    "    model.add(TimeDistributed(Dense(size_out * 4, activation='tanh')))\n",
    "    model.add(Dropout(0.3))\n",
    "    model.add(TimeDistributed(Dense(french_vocab_size, activation='softmax')))\n",
    "    \n",
    "    model.compile(loss=sparse_categorical_crossentropy,\n",
    "                  optimizer=Adam(learning_rate),\n",
    "                  metrics=['accuracy'])\n",
    "    return model\n",
    "tests.test_model_final(model_final)\n",
    "\n",
    "print('Final Model Loaded')\n",
    "# TODO: Train the final model"
   ]
  },
  {
   "cell_type": "markdown",
   "metadata": {},
   "source": [
    "## Prediction (IMPLEMENTATION)"
   ]
  },
  {
   "cell_type": "code",
   "execution_count": 39,
   "metadata": {},
   "outputs": [
    {
     "name": "stdout",
     "output_type": "stream",
     "text": [
      "_________________________________________________________________\n",
      "Layer (type)                 Output Shape              Param #   \n",
      "=================================================================\n",
      "embedding_8 (Embedding)      (None, 15, 256)           88320     \n",
      "_________________________________________________________________\n",
      "bidirectional_7 (Bidirection (None, 512)               787968    \n",
      "_________________________________________________________________\n",
      "repeat_vector_4 (RepeatVecto (None, 21, 512)           0         \n",
      "_________________________________________________________________\n",
      "bidirectional_8 (Bidirection (None, 21, 512)           1181184   \n",
      "_________________________________________________________________\n",
      "time_distributed_39 (TimeDis (None, 21, 1024)          525312    \n",
      "_________________________________________________________________\n",
      "dropout_28 (Dropout)         (None, 21, 1024)          0         \n",
      "_________________________________________________________________\n",
      "time_distributed_40 (TimeDis (None, 21, 345)           353625    \n",
      "=================================================================\n",
      "Total params: 2,936,409\n",
      "Trainable params: 2,936,409\n",
      "Non-trainable params: 0\n",
      "_________________________________________________________________\n",
      "None\n",
      "Train on 110288 samples, validate on 27573 samples\n",
      "Epoch 1/15\n",
      "110288/110288 [==============================] - 49s 447us/step - loss: 2.5547 - acc: 0.4683 - val_loss: 1.8244 - val_acc: 0.5421\n",
      "Epoch 2/15\n",
      "110288/110288 [==============================] - 48s 433us/step - loss: 1.5922 - acc: 0.5880 - val_loss: 1.3315 - val_acc: 0.6394\n",
      "Epoch 3/15\n",
      "110288/110288 [==============================] - 48s 433us/step - loss: 1.2322 - acc: 0.6591 - val_loss: 1.0572 - val_acc: 0.6997\n",
      "Epoch 4/15\n",
      "110288/110288 [==============================] - 48s 434us/step - loss: 0.9933 - acc: 0.7129 - val_loss: 0.8687 - val_acc: 0.7481\n",
      "Epoch 5/15\n",
      "110288/110288 [==============================] - 48s 433us/step - loss: 0.8494 - acc: 0.7486 - val_loss: 0.7607 - val_acc: 0.7700\n",
      "Epoch 6/15\n",
      "110288/110288 [==============================] - 48s 434us/step - loss: 0.7263 - acc: 0.7813 - val_loss: 0.6360 - val_acc: 0.8083\n",
      "Epoch 7/15\n",
      "110288/110288 [==============================] - 48s 434us/step - loss: 0.6368 - acc: 0.8051 - val_loss: 0.5190 - val_acc: 0.8444\n",
      "Epoch 8/15\n",
      "110288/110288 [==============================] - 48s 432us/step - loss: 0.5037 - acc: 0.8457 - val_loss: 0.4142 - val_acc: 0.8783\n",
      "Epoch 9/15\n",
      "110288/110288 [==============================] - 48s 432us/step - loss: 0.4124 - acc: 0.8740 - val_loss: 0.3376 - val_acc: 0.9002\n",
      "Epoch 10/15\n",
      "110288/110288 [==============================] - 48s 432us/step - loss: 0.3528 - acc: 0.8922 - val_loss: 0.3398 - val_acc: 0.8941\n",
      "Epoch 11/15\n",
      "110288/110288 [==============================] - 48s 432us/step - loss: 0.3013 - acc: 0.9079 - val_loss: 0.2473 - val_acc: 0.9261\n",
      "Epoch 12/15\n",
      "110288/110288 [==============================] - 48s 432us/step - loss: 0.2582 - acc: 0.9209 - val_loss: 0.2261 - val_acc: 0.9318\n",
      "Epoch 13/15\n",
      "110288/110288 [==============================] - 48s 432us/step - loss: 0.2312 - acc: 0.9289 - val_loss: 0.2031 - val_acc: 0.9386\n",
      "Epoch 14/15\n",
      "110288/110288 [==============================] - 48s 432us/step - loss: 0.2294 - acc: 0.9294 - val_loss: 0.1746 - val_acc: 0.9469\n",
      "Epoch 15/15\n",
      "110288/110288 [==============================] - 48s 433us/step - loss: 0.1864 - acc: 0.9430 - val_loss: 0.1624 - val_acc: 0.9515\n",
      "Sample 1:\n",
      "il a vu un vieux camion jaune <PAD> <PAD> <PAD> <PAD> <PAD> <PAD> <PAD> <PAD> <PAD> <PAD> <PAD> <PAD> <PAD> <PAD>\n",
      "Il a vu un vieux camion jaune\n",
      "Sample 2:\n",
      "new jersey est parfois calme pendant l'automne et il il est en avril neigeux <PAD> <PAD> <PAD> <PAD> <PAD> <PAD> <PAD>\n",
      "new jersey est parfois calme pendant l' automne et il est neigeux en avril <PAD> <PAD> <PAD> <PAD> <PAD> <PAD> <PAD>\n"
     ]
    }
   ],
   "source": [
    "def final_predictions(x, y, x_tk, y_tk):\n",
    "    \"\"\"\n",
    "    Gets predictions using the final model\n",
    "    :param x: Preprocessed English data\n",
    "    :param y: Preprocessed French data\n",
    "    :param x_tk: English tokenizer\n",
    "    :param y_tk: French tokenizer\n",
    "    \"\"\"\n",
    "    \n",
    "    # Reshaping the input to work with an embedded RNN\n",
    "    tmp_x = pad(x)\n",
    "    \n",
    "    model = model_final(\n",
    "        tmp_x.shape,\n",
    "        y.shape[1],\n",
    "        len(x_tk.word_index)+1,\n",
    "        len(y_tk.word_index)+1)\n",
    "    print(model.summary())\n",
    "\n",
    "    if os.path.exists(os.path.join(cachedir, \"final_rnn_model.h5\")) == False:\n",
    "        model.fit(tmp_x, preproc_french_sentences, batch_size=1024, epochs=15, validation_split=0.2)\n",
    "        model.save(os.path.join(cachedir, \"final_rnn_model.h5\"))\n",
    "    else:\n",
    "        model = load_model(os.path.join(cachedir, \"final_rnn_model.h5\"))\n",
    "    \n",
    "    ## DON'T EDIT ANYTHING BELOW THIS LINE\n",
    "    y_id_to_word = {value: key for key, value in y_tk.word_index.items()}\n",
    "    y_id_to_word[0] = '<PAD>'\n",
    "\n",
    "    sentence = 'he saw a old yellow truck'\n",
    "    sentence = [x_tk.word_index[word] for word in sentence.split()]\n",
    "    sentence = pad_sequences([sentence], maxlen=x.shape[-1], padding='post')\n",
    "    sentences = np.array([sentence[0], x[0]])\n",
    "    predictions = model.predict(sentences, len(sentences))\n",
    "\n",
    "    print('Sample 1:')\n",
    "    print(' '.join([y_id_to_word[np.argmax(x)] for x in predictions[0]]))\n",
    "    print('Il a vu un vieux camion jaune')\n",
    "    print('Sample 2:')\n",
    "    print(' '.join([y_id_to_word[np.argmax(x)] for x in predictions[1]]))\n",
    "    print(' '.join([y_id_to_word[np.max(x)] for x in y[0]]))\n",
    "\n",
    "\n",
    "final_predictions(preproc_english_sentences, preproc_french_sentences, english_tokenizer, french_tokenizer)"
   ]
  },
  {
   "cell_type": "markdown",
   "metadata": {},
   "source": [
    "## Submission\n",
    "When you're ready to submit, complete the following steps:\n",
    "1. Review the [rubric](https://review.udacity.com/#!/rubrics/1004/view) to ensure your submission meets all requirements to pass\n",
    "2. Generate an HTML version of this notebook\n",
    "\n",
    "  - Run the next cell to attempt automatic generation (this is the recommended method in Workspaces)\n",
    "  - Navigate to **FILE -> Download as -> HTML (.html)**\n",
    "  - Manually generate a copy using `nbconvert` from your shell terminal\n",
    "```\n",
    "$ pip install nbconvert\n",
    "$ python -m nbconvert machine_translation.ipynb\n",
    "```\n",
    "  \n",
    "3. Submit the project\n",
    "\n",
    "  - If you are in a Workspace, simply click the \"Submit Project\" button (bottom towards the right)\n",
    "  \n",
    "  - Otherwise, add the following files into a zip archive and submit them \n",
    "  - `helper.py`\n",
    "  - `machine_translation.ipynb`\n",
    "  - `machine_translation.html`\n",
    "    - You can export the notebook by navigating to **File -> Download as -> HTML (.html)**."
   ]
  },
  {
   "cell_type": "code",
   "execution_count": 40,
   "metadata": {},
   "outputs": [
    {
     "data": {
      "text/plain": [
       "['[NbConvertApp] Converting notebook machine_translation.ipynb to html',\n",
       " '[NbConvertApp] Writing 360105 bytes to machine_translation.html']"
      ]
     },
     "execution_count": 40,
     "metadata": {},
     "output_type": "execute_result"
    }
   ],
   "source": [
    "!!python -m nbconvert *.ipynb"
   ]
  },
  {
   "cell_type": "markdown",
   "metadata": {},
   "source": [
    "## Optional Enhancements\n",
    "\n",
    "This project focuses on learning various network architectures for machine translation, but we don't evaluate the models according to best practices by splitting the data into separate test & training sets -- so the model accuracy is overstated. Use the [`sklearn.model_selection.train_test_split()`](http://scikit-learn.org/stable/modules/generated/sklearn.model_selection.train_test_split.html) function to create separate training & test datasets, then retrain each of the models using only the training set and evaluate the prediction accuracy using the hold out test set. Does the \"best\" model change?"
   ]
  }
 ],
 "metadata": {
  "kernelspec": {
   "display_name": "Python 3",
   "language": "python",
   "name": "python3"
  },
  "language_info": {
   "codemirror_mode": {
    "name": "ipython",
    "version": 3
   },
   "file_extension": ".py",
   "mimetype": "text/x-python",
   "name": "python",
   "nbconvert_exporter": "python",
   "pygments_lexer": "ipython3",
   "version": "3.6.3"
  }
 },
 "nbformat": 4,
 "nbformat_minor": 1
}
